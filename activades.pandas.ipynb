{
 "cells": [
  {
   "cell_type": "markdown",
   "id": "12ad2501",
   "metadata": {},
   "source": [
    "# Actividad - Trabajando con DataFrames de Pandas.\n",
    "## Criterios de evaluación.\n",
    "\n",
    "* Se deben utilizar nombres de variables descriptivos y claros (Utilizar la nomeclatura correspondiente para los nombres de variables).\n",
    "* Comentarios claros y concisos que expliquen el propósito de cada sección del código.\n",
    "* Utilizar mensajes de commit **descriptivos**. (Puedes utilizar la extension CONVENTIONAL COMMIT de VS-CODE). \n",
    "* Entrega en tiempo y forma.\n",
    "* Todo el código desarrollado debe ser subido a un repositorio en GitHub (el nombre del repositorio de seguir la siguiente estructura: pandas_df_tlp3_nombre_apellido).\n",
    "* Para resolver las actividades se debe insertar casillas de codigo entre cada actividad del cuaderno de Jupyter\n",
    "* Deben trabajar con el datasets adjunto a la actividad\n",
    "\n",
    "### ¡Importante!\n",
    "**El incumplimiento de los criterios de evaluación restará puntos en la nota final del práctico!**"
   ]
  },
  {
   "cell_type": "code",
   "execution_count": 13,
   "id": "a88f06dc",
   "metadata": {},
   "outputs": [
    {
     "name": "stdout",
     "output_type": "stream",
     "text": [
      "   Id       EmployeeName                                        JobTitle  \\\n",
      "0   1     NATHANIEL FORD  GENERAL MANAGER-METROPOLITAN TRANSIT AUTHORITY   \n",
      "1   2       GARY JIMENEZ                 CAPTAIN III (POLICE DEPARTMENT)   \n",
      "2   3     ALBERT PARDINI                 CAPTAIN III (POLICE DEPARTMENT)   \n",
      "3   4  CHRISTOPHER CHONG            WIRE ROPE CABLE MAINTENANCE MECHANIC   \n",
      "4   5    PATRICK GARDNER    DEPUTY CHIEF OF DEPARTMENT,(FIRE DEPARTMENT)   \n",
      "\n",
      "     BasePay OvertimePay   OtherPay Benefits   TotalPay  TotalPayBenefits  \\\n",
      "0  167411.18         0.0  400184.25     None  567595.43         567595.43   \n",
      "1  155966.02   245131.88  137811.38     None  538909.28         538909.28   \n",
      "2  212739.13   106088.18    16452.6     None  335279.91         335279.91   \n",
      "3    77916.0    56120.71   198306.9     None  332343.61         332343.61   \n",
      "4   134401.6      9737.0  182234.59     None  326373.19         326373.19   \n",
      "\n",
      "   Year Notes         Agency Status  \n",
      "0  2011  None  San Francisco   None  \n",
      "1  2011  None  San Francisco   None  \n",
      "2  2011  None  San Francisco   None  \n",
      "3  2011  None  San Francisco   None  \n",
      "4  2011  None  San Francisco   None  \n"
     ]
    }
   ],
   "source": [
    "import pandas as pd\n",
    "import sqlite3\n",
    "conexion = sqlite3.connect('Salaries.sqlite')\n",
    "cursor = conexion.cursor()\n",
    "df = pd.read_sql_query(\"SELECT * FROM Salaries\", conexion)\n",
    "print(df.head())\n"
   ]
  },
  {
   "cell_type": "markdown",
   "id": "b993b225",
   "metadata": {},
   "source": [
    "1. **Top 10 empleados con mayor salario total (incluyendo beneficios)**\n",
    "Extrae e imprime un top 10 de expleados con mayor salario incluyendo los beneficios \n"
   ]
  },
  {
   "cell_type": "code",
   "execution_count": 19,
   "id": "135f2471",
   "metadata": {},
   "outputs": [
    {
     "name": "stdout",
     "output_type": "stream",
     "text": [
      "         EmployeeName  TotalPayBenefits\n",
      "0      NATHANIEL FORD         567595.43\n",
      "1        GARY JIMENEZ         538909.28\n",
      "2      ALBERT PARDINI         335279.91\n",
      "3   CHRISTOPHER CHONG         332343.61\n",
      "4     PATRICK GARDNER         326373.19\n",
      "5      DAVID SULLIVAN         316285.74\n",
      "6           ALSON LEE         315981.05\n",
      "7       DAVID KUSHNER         307899.46\n",
      "8      MICHAEL MORRIS         303427.55\n",
      "9  JOANNE HAYES-WHITE         302377.73\n"
     ]
    }
   ],
   "source": [
    "#todo\n",
    "df = pd.read_sql_query(\"SELECT * FROM Salaries\", conexion)\n",
    "\n",
    "\n",
    "#  Muestra  el top 10\n",
    "top10 = df[[\"EmployeeName\", \"TotalPayBenefits\"]].head(10)\n",
    "\n",
    "print(top10)\n"
   ]
  },
  {
   "cell_type": "markdown",
   "id": "fd03ce6c",
   "metadata": {},
   "source": [
    "2. **Filtrar empleados con más de 50,000 en horas extra, la columna a tratar es: (OvertimePay)**"
   ]
  },
  {
   "cell_type": "code",
   "execution_count": 26,
   "id": "c5dc65c7",
   "metadata": {},
   "outputs": [
    {
     "name": "stdout",
     "output_type": "stream",
     "text": [
      "              EmployeeName  OvertimePay\n",
      "1             GARY JIMENEZ    245131.88\n",
      "2           ALBERT PARDINI    106088.18\n",
      "3        CHRISTOPHER CHONG     56120.71\n",
      "6                ALSON LEE     89062.90\n",
      "8           MICHAEL MORRIS     86362.68\n",
      "...                    ...          ...\n",
      "118288    Francisco A Arce     51625.42\n",
      "118342    Felix Pagatpatan     52550.53\n",
      "119450         Bobby Jones     50265.23\n",
      "119607       Hung V Nguyen     74935.96\n",
      "120204  Girma-Worku Zeleke     54738.36\n",
      "\n",
      "[2165 rows x 2 columns]\n"
     ]
    }
   ],
   "source": [
    "#todo\n",
    "filtro = df[df[\"OvertimePay\"] > 50000]\n",
    "\n",
    "print(filtro[[\"EmployeeName\", \"OvertimePay\"]])"
   ]
  },
  {
   "cell_type": "markdown",
   "id": "518b4eab",
   "metadata": {},
   "source": [
    "3. **Contar cuántos empleados únicos hay por año**"
   ]
  },
  {
   "cell_type": "code",
   "execution_count": null,
   "id": "e35c5908",
   "metadata": {},
   "outputs": [
    {
     "name": "stdout",
     "output_type": "stream",
     "text": [
      "Year\n",
      "2011    33878\n",
      "2012    34349\n",
      "2013    36150\n",
      "2014    36684\n",
      "Name: EmployeeName, dtype: int64\n"
     ]
    }
   ],
   "source": [
    "#todo\n",
    "\n",
    "result = df.groupby('Year')['EmployeeName'].nunique()\n",
    "\n",
    "print(result)"
   ]
  },
  {
   "cell_type": "markdown",
   "id": "9105e992",
   "metadata": {},
   "source": [
    "4. **Ver cuántos cargos únicos (JobTitle) existen y los 5 más comunes**"
   ]
  },
  {
   "cell_type": "code",
   "execution_count": 34,
   "id": "0179bb5c",
   "metadata": {},
   "outputs": [
    {
     "name": "stdout",
     "output_type": "stream",
     "text": [
      "                                                 Id  EmployeeName  BasePay  \\\n",
      "JobTitle                                                                     \n",
      "ACCOUNT CLERK                                    83            83       52   \n",
      "ACCOUNTANT                                        5             5        5   \n",
      "ACCOUNTANT INTERN                                48            48       24   \n",
      "ACPO,JuvP, Juv Prob (SFERS)                       1             1        1   \n",
      "ACUPUNCTURIST                                     1             1        1   \n",
      "...                                             ...           ...      ...   \n",
      "X-RAY LABORATORY AIDE                            26            26       23   \n",
      "X-Ray Laboratory Aide                           100            70       93   \n",
      "YOUTH COMMISSION ADVISOR, BOARD OF SUPERVISORS    1             1        1   \n",
      "Youth Comm Advisor                                4             4        4   \n",
      "ZOO CURATOR                                       1             1        1   \n",
      "\n",
      "                                                OvertimePay  OtherPay  \\\n",
      "JobTitle                                                                \n",
      "ACCOUNT CLERK                                            19        27   \n",
      "ACCOUNTANT                                                1         3   \n",
      "ACCOUNTANT INTERN                                         3         8   \n",
      "ACPO,JuvP, Juv Prob (SFERS)                               1         1   \n",
      "ACUPUNCTURIST                                             1         1   \n",
      "...                                                     ...       ...   \n",
      "X-RAY LABORATORY AIDE                                    23        23   \n",
      "X-Ray Laboratory Aide                                    68        78   \n",
      "YOUTH COMMISSION ADVISOR, BOARD OF SUPERVISORS            1         1   \n",
      "Youth Comm Advisor                                        1         3   \n",
      "ZOO CURATOR                                               1         1   \n",
      "\n",
      "                                                Benefits  TotalPay  \\\n",
      "JobTitle                                                             \n",
      "ACCOUNT CLERK                                          0        71   \n",
      "ACCOUNTANT                                             0         5   \n",
      "ACCOUNTANT INTERN                                      0        25   \n",
      "ACPO,JuvP, Juv Prob (SFERS)                            1         1   \n",
      "ACUPUNCTURIST                                          0         1   \n",
      "...                                                  ...       ...   \n",
      "X-RAY LABORATORY AIDE                                  0        26   \n",
      "X-Ray Laboratory Aide                                100       100   \n",
      "YOUTH COMMISSION ADVISOR, BOARD OF SUPERVISORS         0         1   \n",
      "Youth Comm Advisor                                     4         4   \n",
      "ZOO CURATOR                                            0         1   \n",
      "\n",
      "                                                TotalPayBenefits  Year  Notes  \\\n",
      "JobTitle                                                                        \n",
      "ACCOUNT CLERK                                                 71     1      0   \n",
      "ACCOUNTANT                                                     5     1      0   \n",
      "ACCOUNTANT INTERN                                             25     1      0   \n",
      "ACPO,JuvP, Juv Prob (SFERS)                                    1     1      0   \n",
      "ACUPUNCTURIST                                                  1     1      0   \n",
      "...                                                          ...   ...    ...   \n",
      "X-RAY LABORATORY AIDE                                         26     1      0   \n",
      "X-Ray Laboratory Aide                                        100     3      0   \n",
      "YOUTH COMMISSION ADVISOR, BOARD OF SUPERVISORS                 1     1      0   \n",
      "Youth Comm Advisor                                             4     3      0   \n",
      "ZOO CURATOR                                                    1     1      0   \n",
      "\n",
      "                                                Agency  Status  \n",
      "JobTitle                                                        \n",
      "ACCOUNT CLERK                                        1       0  \n",
      "ACCOUNTANT                                           1       0  \n",
      "ACCOUNTANT INTERN                                    1       0  \n",
      "ACPO,JuvP, Juv Prob (SFERS)                          1       1  \n",
      "ACUPUNCTURIST                                        1       0  \n",
      "...                                                ...     ...  \n",
      "X-RAY LABORATORY AIDE                                1       0  \n",
      "X-Ray Laboratory Aide                                1       2  \n",
      "YOUTH COMMISSION ADVISOR, BOARD OF SUPERVISORS       1       0  \n",
      "Youth Comm Advisor                                   1       1  \n",
      "ZOO CURATOR                                          1       0  \n",
      "\n",
      "[2159 rows x 12 columns]\n"
     ]
    }
   ],
   "source": [
    "result = df.groupby('JobTitle').nunique()\n",
    "print(result)"
   ]
  },
  {
   "cell_type": "code",
   "execution_count": 35,
   "id": "e388d537",
   "metadata": {},
   "outputs": [
    {
     "name": "stdout",
     "output_type": "stream",
     "text": [
      "top 5 mas comunes JobTitle\n",
      "Transit Operator                7036\n",
      "Special Nurse                   4389\n",
      "Registered Nurse                3736\n",
      "Public Svc Aide-Public Works    2518\n",
      "Police Officer 3                2421\n",
      "Name: count, dtype: int64\n"
     ]
    }
   ],
   "source": [
    "\n",
    "#top 5 mas comunes \n",
    "result2 =  df['JobTitle'].value_counts().head(5)\n",
    "print(\"top 5 mas comunes\",result2)"
   ]
  },
  {
   "cell_type": "markdown",
   "id": "b34c7043",
   "metadata": {},
   "source": [
    "5. **Mostrar el salario total (TotalPay) promedio por año**"
   ]
  },
  {
   "cell_type": "code",
   "execution_count": 37,
   "id": "7b91a524",
   "metadata": {},
   "outputs": [
    {
     "name": "stdout",
     "output_type": "stream",
     "text": [
      "Year\n",
      "2011    71744.103871\n",
      "2012    74113.262265\n",
      "2013    77611.443142\n",
      "2014    75463.918140\n",
      "Name: TotalPay, dtype: float64\n"
     ]
    }
   ],
   "source": [
    "result =df.groupby('Year')['TotalPay'].mean()\n",
    "print(result)"
   ]
  },
  {
   "cell_type": "markdown",
   "id": "cd1d7071",
   "metadata": {},
   "source": [
    "6. **Exporta todos los datos a un CSV y muestra los ultimos 10 valores**"
   ]
  },
  {
   "cell_type": "code",
   "execution_count": 41,
   "id": "1f27e45c",
   "metadata": {},
   "outputs": [
    {
     "name": "stdout",
     "output_type": "stream",
     "text": [
      "            Id      EmployeeName                      JobTitle       BasePay  \\\n",
      "148644  148645      Randy D Winn  Stationary Eng, Sewage Plant          0.00   \n",
      "148645  148646  Carolyn A Wilson     Human Services Technician          0.00   \n",
      "148646  148647      Not provided                  Not provided  Not Provided   \n",
      "148647  148648    Joann Anderson   Communications Dispatcher 2          0.00   \n",
      "148648  148649       Leon Walker                     Custodian          0.00   \n",
      "148649  148650     Roy I Tillery                     Custodian          0.00   \n",
      "148650  148651      Not provided                  Not provided  Not Provided   \n",
      "148651  148652      Not provided                  Not provided  Not Provided   \n",
      "148652  148653      Not provided                  Not provided  Not Provided   \n",
      "148653  148654         Joe Lopez    Counselor, Log Cabin Ranch          0.00   \n",
      "\n",
      "        OvertimePay      OtherPay      Benefits  TotalPay  TotalPayBenefits  \\\n",
      "148644          0.0          0.00          0.00      0.00              0.00   \n",
      "148645          0.0          0.00          0.00      0.00              0.00   \n",
      "148646          NaN  Not Provided  Not Provided      0.00              0.00   \n",
      "148647          0.0          0.00          0.00      0.00              0.00   \n",
      "148648          0.0          0.00          0.00      0.00              0.00   \n",
      "148649          0.0          0.00          0.00      0.00              0.00   \n",
      "148650          NaN  Not Provided  Not Provided      0.00              0.00   \n",
      "148651          NaN  Not Provided  Not Provided      0.00              0.00   \n",
      "148652          NaN  Not Provided  Not Provided      0.00              0.00   \n",
      "148653          0.0       -618.13          0.00   -618.13           -618.13   \n",
      "\n",
      "        Year  Notes         Agency Status  \n",
      "148644  2014    NaN  San Francisco     PT  \n",
      "148645  2014    NaN  San Francisco     PT  \n",
      "148646  2014    NaN  San Francisco    NaN  \n",
      "148647  2014    NaN  San Francisco     PT  \n",
      "148648  2014    NaN  San Francisco     PT  \n",
      "148649  2014    NaN  San Francisco     PT  \n",
      "148650  2014    NaN  San Francisco    NaN  \n",
      "148651  2014    NaN  San Francisco    NaN  \n",
      "148652  2014    NaN  San Francisco    NaN  \n",
      "148653  2014    NaN  San Francisco     PT  \n"
     ]
    },
    {
     "name": "stderr",
     "output_type": "stream",
     "text": [
      "C:\\Users\\IPF-2025\\AppData\\Local\\Temp\\ipykernel_10120\\4126452889.py:3: DtypeWarning: Columns (3,5,6,12) have mixed types. Specify dtype option on import or set low_memory=False.\n",
      "  newDf =pd.read_csv('empleados_salaries.csv')\n"
     ]
    }
   ],
   "source": [
    "#todo\n",
    "df.to_csv('empleados_salaries.csv', index=False)\n",
    "newDf =pd.read_csv('empleados_salaries.csv')\n",
    "print(newDf.tail(10))"
   ]
  }
 ],
 "metadata": {
  "kernelspec": {
   "display_name": "Python 3",
   "language": "python",
   "name": "python3"
  },
  "language_info": {
   "codemirror_mode": {
    "name": "ipython",
    "version": 3
   },
   "file_extension": ".py",
   "mimetype": "text/x-python",
   "name": "python",
   "nbconvert_exporter": "python",
   "pygments_lexer": "ipython3",
   "version": "3.13.3"
  }
 },
 "nbformat": 4,
 "nbformat_minor": 5
}
